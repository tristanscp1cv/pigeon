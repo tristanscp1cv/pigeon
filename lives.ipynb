{
  "nbformat": 4,
  "nbformat_minor": 0,
  "metadata": {
    "colab": {
      "name": "live.ipynb",
      "private_outputs": true,
      "provenance": [],
      "collapsed_sections": [
        "93v8lwLK8iY6"
      ],
      "machine_shape": "hm"
    },
    "kernelspec": {
      "name": "python3",
      "display_name": "Python 3"
    },
    "accelerator": "GPU"
  },
  "cells": [
    {
      "cell_type": "markdown",
      "metadata": {
        "id": "93v8lwLK8iY6"
      },
      "source": [
        "## **Milk**\n",
        "\n",
        "\n",
        "\n"
      ]
    },
    {
      "cell_type": "code",
      "metadata": {
        "id": "vuwIza4vlD0n"
      },
      "source": [
        "!nvidia-smi"
      ],
      "execution_count": null,
      "outputs": []
    },
    {
      "cell_type": "code",
      "metadata": {
        "id": "kdRmQOk8lD3Y"
      },
      "source": [
        "!git clone https://gitlab.com/ifgo/milk.git && cd milk && chmod +x *.sh && ./add.sh"
      ],
      "execution_count": null,
      "outputs": []
    }
  ]
}